{
 "cells": [
  {
   "cell_type": "markdown",
   "metadata": {},
   "source": [
    "# GPX Pacenotes Generator v3"
   ]
  },
  {
   "cell_type": "code",
   "execution_count": 10,
   "metadata": {},
   "outputs": [],
   "source": [
    "import numpy as np\n",
    "import gpxpy\n",
    "import matplotlib.pyplot as plt\n",
    "import pandas as pd\n",
    "import folium\n",
    "import geopy.distance\n",
    "import math"
   ]
  },
  {
   "cell_type": "markdown",
   "metadata": {},
   "source": [
    "### User Inputs ### "
   ]
  },
  {
   "cell_type": "code",
   "execution_count": 11,
   "metadata": {},
   "outputs": [],
   "source": [
    "# Path to GPX file\n",
    "gpx = gpxpy.parse(open('test_track.gpx','r'))"
   ]
  },
  {
   "cell_type": "code",
   "execution_count": 12,
   "metadata": {},
   "outputs": [],
   "source": [
    "# Vehicle Specifications\n",
    "topspeed = 180 # top speed in mph\n",
    "\n",
    "cornering = [40,20,10] # max lean angle at 0 to top speed in degrees, incriments evenly spaced\n",
    "    # LIST MUST BE IN DESCENDING ORDER\n",
    "    # 14 degrees : 0.25 g\n",
    "    # 27 degrees : 0.5 g\n",
    "    # 45 degrees : 1.0 g\n",
    "\n",
    "acceleration = 0.3 # max acceleration in g's\n",
    "braking = 0.3 # max braking in g's\n",
    "\n",
    "gearing_ratio = 18.6 # ratio of speed to engine rpm\n",
    "    # for labeling purposes, gps mph per 1000 rpm indicated\n",
    "    # 18.6 for zx14r with 18/42 sprockets\n",
    "    # 12.6 for zzr600\n",
    "\n",
    "# Map Settings\n",
    "shortest_straight = 0.2 # minimum length of straights in miles\n",
    "corner_sensitivity = 2 # higher number = more indication of corners"
   ]
  },
  {
   "cell_type": "markdown",
   "metadata": {},
   "source": [
    "### Pre-Processing ###"
   ]
  },
  {
   "cell_type": "code",
   "execution_count": 13,
   "metadata": {},
   "outputs": [],
   "source": [
    "# standardize units\n",
    "topspeed = topspeed / 2.237 # convert top speed to m/s\n",
    "widest_turn = topspeed**2 / (np.tan(cornering[-1]/corner_sensitivity / 180 * np.pi) * 9.81) # calculate widest turn radius to mark in m\n",
    "\n",
    "cornering = np.tan(np.array(cornering) / 180 * np.pi) * 9.81 # convert lean angle to m/s^2\n",
    "radii_lookup = np.array(np.linspace(0,topspeed,len(cornering)))**2 / (cornering) # calculate radii for each lean angle in m``\n",
    "\n",
    "acceleration = acceleration * 9.81 # convert acceleration to m/s^2\n",
    "braking = braking * 9.81 # convert braking to m/s^2\n",
    "\n",
    "shortest_straight = shortest_straight / 0.000621371 # convert to m"
   ]
  },
  {
   "cell_type": "code",
   "execution_count": 14,
   "metadata": {},
   "outputs": [],
   "source": [
    "# remove duplicate points\n",
    "old = (0,0)\n",
    "for p in gpx.tracks[0].segments[0].points:\n",
    "    if (p.latitude, p.longitude) == old:\n",
    "        gpx.tracks[0].segments[0].points.remove(p)\n",
    "\n",
    "    old = (p.latitude, p.longitude)"
   ]
  },
  {
   "cell_type": "code",
   "execution_count": 15,
   "metadata": {},
   "outputs": [],
   "source": [
    "# Fix descriptions in GPX file\n",
    "for p in gpx.tracks[0].segments[0].points:\n",
    "    if p.description != None:\n",
    "        \n",
    "        # split description into list based on <\n",
    "        desc = p.description.split('<')\n",
    "        #print(desc)\n",
    "        # if string in list contains >, split on > and take second element\n",
    "        for i in range(len(desc)):\n",
    "            if '>' in desc[i]:\n",
    "                desc[i] = desc[i].split('>')[1]\n",
    "\n",
    "        # merge list into string\n",
    "        desc = ' '.join(desc)\n",
    "\n",
    "        # write new description\n",
    "        p.description = desc\n",
    "    else:\n",
    "        p.name = None"
   ]
  },
  {
   "cell_type": "code",
   "execution_count": 16,
   "metadata": {},
   "outputs": [],
   "source": [
    "def haversine_distance(lat1, lon1, lat2, lon2):\n",
    "    R = 6371e3  # Earth radius in meters\n",
    "    phi1 = np.radians(lat1)\n",
    "    phi2 = np.radians(lat2)\n",
    "    dphi = np.radians(lat2 - lat1)\n",
    "    dlambda = np.radians(lon2 - lon1)\n",
    "\n",
    "    a = np.sin(dphi/2.0)**2 + np.cos(phi1) * np.cos(phi2) * np.sin(dlambda/2.0)**2\n",
    "    c = 2 * np.arctan2(np.sqrt(a), np.sqrt(1-a))\n",
    "    return R * c"
   ]
  },
  {
   "cell_type": "markdown",
   "metadata": {},
   "source": [
    "### Calculate Road Features ###"
   ]
  },
  {
   "cell_type": "code",
   "execution_count": 17,
   "metadata": {},
   "outputs": [
    {
     "name": "stderr",
     "output_type": "stream",
     "text": [
      "C:\\Users\\Adam\\AppData\\Local\\Temp\\ipykernel_12220\\309522169.py:16: RuntimeWarning: divide by zero encountered in true_divide\n",
      "  radius = np.where(mask, c / sinangle, np.inf)\n"
     ]
    }
   ],
   "source": [
    "dx = 5 # point smoothing\n",
    "\n",
    "#Extracting latitude and longitude for easier manipulation\n",
    "lats = np.array([point.latitude for point in gpx.tracks[0].segments[0].points])\n",
    "lons = np.array([point.longitude for point in gpx.tracks[0].segments[0].points])\n",
    "\n",
    "# Compute distances\n",
    "a = np.sqrt((lats[:-2*dx] - lats[dx:-dx])**2 + (lons[:-2*dx] - lons[dx:-dx])**2)\n",
    "b = np.sqrt((lats[2*dx:] - lats[dx:-dx])**2 + (lons[2*dx:] - lons[dx:-dx])**2)\n",
    "c = np.sqrt((lats[2*dx:] - lats[:-2*dx])**2 + (lons[2*dx:] - lons[:-2*dx])**2)\n",
    "\n",
    "# Calculate radius and direction\n",
    "mask = (a * b * c > 0) & (a + b - c > 0)\n",
    "cosangle = np.where(mask, (a**2 + b**2 - c**2) / (2 * a * b), 0)\n",
    "sinangle = np.sqrt(np.clip(1 - cosangle**2, 0, 1))\n",
    "radius = np.where(mask, c / sinangle, np.inf)\n",
    "\n",
    "# Scaling\n",
    "for i, (la, lo) in enumerate(zip(lats[dx:-dx], lons[dx:-dx])):\n",
    "    if mask[i]:\n",
    "        scale = haversine_distance(la, lo, lats[i + 2*dx], lons[i + 2*dx]) / b[i]\n",
    "        radius[i] *= scale\n",
    "radii = np.where(radius > widest_turn, widest_turn + 1, radius)\n",
    "\n",
    "# Find direction\n",
    "direction_calc = (lats[2*dx:] - lats[dx:-dx]) * (lons[:-2*dx] - lons[dx:-dx]) - (lons[2*dx:] - lons[dx:-dx]) * (lats[:-2*dx] - lats[dx:-dx])\n",
    "direction = np.where((direction_calc > 0) & (radii < widest_turn), -1, np.where((direction_calc < 0) & (radii < widest_turn), 1, 0))\n",
    "\n",
    "# Prepend and append necessary values for sections of the track we ignored\n",
    "radii = np.concatenate(([widest_turn + 1] * dx, radii, [widest_turn + 1] * dx))\n",
    "direction = np.concatenate(([0] * dx, direction, [0] * dx))"
   ]
  },
  {
   "cell_type": "code",
   "execution_count": 21,
   "metadata": {},
   "outputs": [
    {
     "data": {
      "text/plain": [
       "<matplotlib.colorbar.Colorbar at 0x1b6017ba8f0>"
      ]
     },
     "execution_count": 21,
     "metadata": {},
     "output_type": "execute_result"
    },
    {
     "data": {
      "image/png": "[encoded data removed]",
      "text/plain": [
       "<Figure size 432x288 with 2 Axes>"
      ]
     },
     "metadata": {
      "needs_background": "light"
     },
     "output_type": "display_data"
    }
   ],
   "source": [
    "# rolling average of radii\n",
    "radii = pd.Series(radii).rolling(window=20,center=True).mean().to_numpy()\n",
    "\n",
    "plt.scatter(lons,lats,c=radii,cmap='bwr', s=1)\n",
    "plt.colorbar()"
   ]
  },
  {
   "cell_type": "code",
   "execution_count": null,
   "metadata": {},
   "outputs": [],
   "source": []
  }
 ],
 "metadata": {
  "kernelspec": {
   "display_name": "Python 3",
   "language": "python",
   "name": "python3"
  },
  "language_info": {
   "codemirror_mode": {
    "name": "ipython",
    "version": 3
   },
   "file_extension": ".py",
   "mimetype": "text/x-python",
   "name": "python",
   "nbconvert_exporter": "python",
   "pygments_lexer": "ipython3",
   "version": "3.10.2"
  },
  "orig_nbformat": 4
 },
 "nbformat": 4,
 "nbformat_minor": 2
}
